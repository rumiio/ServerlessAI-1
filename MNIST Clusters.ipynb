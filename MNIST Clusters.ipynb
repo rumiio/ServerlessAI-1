{
 "cells": [
  {
   "cell_type": "markdown",
   "metadata": {},
   "source": [
    "# MNIST Clusters"
   ]
  },
  {
   "cell_type": "code",
   "execution_count": 1,
   "metadata": {},
   "outputs": [],
   "source": [
    "from sagemaker import get_execution_role\n",
    "role = get_execution_role()"
   ]
  },
  {
   "cell_type": "code",
   "execution_count": 2,
   "metadata": {},
   "outputs": [
    {
     "name": "stdout",
     "output_type": "stream",
     "text": [
      "CPU times: user 876 ms, sys: 240 ms, total: 1.12 s\n",
      "Wall time: 3.02 s\n"
     ]
    }
   ],
   "source": [
    "%%time\n",
    "import pickle, gzip, numpy, urllib.request, json\n",
    "\n",
    "# Load the dataset\n",
    "urllib.request.urlretrieve(\"http://deeplearning.net/data/mnist/mnist.pkl.gz\", \"mnist.pkl.gz\")\n",
    "with gzip.open('mnist.pkl.gz', 'rb') as f:\n",
    "    train_set, valid_set, test_set = pickle.load(f, encoding='latin1')"
   ]
  },
  {
   "cell_type": "code",
   "execution_count": 3,
   "metadata": {},
   "outputs": [
    {
     "data": {
      "image/png": "[encoded data removed]",
      "text/plain": [
       "<Figure size 144x720 with 1 Axes>"
      ]
     },
     "metadata": {},
     "output_type": "display_data"
    }
   ],
   "source": [
    "%matplotlib inline\n",
    "import matplotlib.pyplot as plt\n",
    "plt.rcParams[\"figure.figsize\"] = (2,10)\n",
    "\n",
    "def show_digit(img, caption='', subplot=None):\n",
    "    if subplot == None:\n",
    "        _, (subplot) = plt.subplots(1,1)\n",
    "    imgr = img.reshape((28,28))\n",
    "    subplot.axis('off')\n",
    "    subplot.imshow(imgr, cmap='gray')\n",
    "    plt.title(caption)\n",
    "\n",
    "show_digit(train_set[0][30], 'This is a {}'.format(train_set[1][30]))"
   ]
  },
  {
   "cell_type": "markdown",
   "metadata": {},
   "source": [
    "The SageMaker Python library embodies a number of conventions. It creates subfolders and default destinations for you with conventions you should know. When setting up locations for your work note: \n",
    "\n",
    "* All data must reside in S3, with the possible exception of the initial dataset download. Even that should go directly to S3 if possible.\n",
    "* Training, validation, and testing data should be specified by bucket only. \n",
    "* Model output will go into a directory of the format: \n",
    "    * lad"
   ]
  },
  {
   "cell_type": "code",
   "execution_count": 4,
   "metadata": {},
   "outputs": [
    {
     "name": "stdout",
     "output_type": "stream",
     "text": [
      "training data will be uploaded to: s3://batch-transform/KMexample/data/train.data\n",
      "s3://batch-transform/KMexample/data\n",
      "CPU times: user 8.62 s, sys: 532 ms, total: 9.16 s\n",
      "Wall time: 8.89 s\n"
     ]
    }
   ],
   "source": [
    "%%time\n",
    "import io\n",
    "import boto3\n",
    "from sagemaker.amazon.common import write_numpy_to_dense_tensor\n",
    "\n",
    "bucket = 'batch-transform' \n",
    "bucket_URL = \"s3://\" + bucket\n",
    "trainValTest_folder = 'KMexample/data'\n",
    "training_data_key = trainValTest_folder + \"/train.data\"\n",
    "training_data_URL = \"s3://\" + bucket + \"/\" + training_data_key\n",
    "training_data_folder = \"s3://\" + bucket + \"/\" + trainValTest_folder\n",
    "model_URL = bucket_URL + \"/KMexample/model\"\n",
    "\n",
    "print('training data will be uploaded to: {}'.format(training_data_URL))\n",
    "\n",
    "# Convert the training data into the format required by the SageMaker KMeans algorithm\n",
    "buf = io.BytesIO()\n",
    "write_numpy_to_dense_tensor(buf, train_set[0], train_set[1])\n",
    "buf.seek(0)\n",
    "\n",
    "boto3.resource('s3').Bucket(bucket).Object(training_data_key).upload_fileobj(buf)\n",
    "print(training_data_folder)"
   ]
  },
  {
   "cell_type": "code",
   "execution_count": 5,
   "metadata": {},
   "outputs": [],
   "source": [
    "from sagemaker import KMeans\n",
    "\n",
    "kmeans = KMeans(role=role,\n",
    "                train_instance_count=2,\n",
    "                train_instance_type='ml.c4.8xlarge',\n",
    "                output_path=model_URL,\n",
    "                k=10,\n",
    "                data_location=training_data_URL)"
   ]
  },
  {
   "cell_type": "markdown",
   "metadata": {},
   "source": [
    "Use the high-level SDK"
   ]
  },
  {
   "cell_type": "code",
   "execution_count": 6,
   "metadata": {},
   "outputs": [
    {
     "name": "stderr",
     "output_type": "stream",
     "text": [
      "INFO:sagemaker:Creating training-job with name: kmeans-2018-10-09-18-50-02-168\n"
     ]
    },
    {
     "name": "stdout",
     "output_type": "stream",
     "text": [
      "2018-10-09 18:50:02 Starting - Starting the training job...\n",
      "Launching requested ML instances......\n",
      "Preparing the instances for training......\n",
      "2018-10-09 18:52:18 Downloading - Downloading input data\n",
      "2018-10-09 18:52:33 Training - Downloading the training image..\n",
      "\u001b[32mDocker entrypoint called with argument(s): train\u001b[0m\n",
      "\u001b[32m[10/09/2018 18:52:38 INFO 139717838534464] Reading default configuration from /opt/amazon/lib/python2.7/site-packages/algorithm/resources/default-input.json: {u'_tuning_objective_metric': u'', u'_num_gpus': u'auto', u'local_lloyd_num_trials': u'auto', u'_log_level': u'info', u'_kvstore': u'auto', u'local_lloyd_init_method': u'kmeans++', u'force_dense': u'true', u'epochs': u'1', u'init_method': u'random', u'local_lloyd_tol': u'0.0001', u'local_lloyd_max_iter': u'300', u'_disable_wait_to_read': u'false', u'extra_center_factor': u'auto', u'eval_metrics': u'[\"msd\"]', u'_num_kv_servers': u'1', u'mini_batch_size': u'5000', u'half_life_time_size': u'0', u'_num_slices': u'1'}\u001b[0m\n",
      "\u001b[32m[10/09/2018 18:52:38 INFO 139717838534464] Reading provided configuration from /opt/ml/input/config/hyperparameters.json: {u'feature_dim': u'784', u'k': u'10', u'force_dense': u'True'}\u001b[0m\n",
      "\u001b[32m[10/09/2018 18:52:38 INFO 139717838534464] Final configuration: {u'k': u'10', u'_tuning_objective_metric': u'', u'_num_gpus': u'auto', u'local_lloyd_num_trials': u'auto', u'_log_level': u'info', u'_kvstore': u'auto', u'local_lloyd_init_method': u'kmeans++', u'force_dense': u'True', u'epochs': u'1', u'init_method': u'random', u'feature_dim': u'784', u'local_lloyd_tol': u'0.0001', u'local_lloyd_max_iter': u'300', u'_disable_wait_to_read': u'false', u'extra_center_factor': u'auto', u'eval_metrics': u'[\"msd\"]', u'_num_kv_servers': u'1', u'mini_batch_size': u'5000', u'half_life_time_size': u'0', u'_num_slices': u'1'}\u001b[0m\n",
      "\u001b[32m[10/09/2018 18:52:38 WARNING 139717838534464] Loggers have already been setup.\u001b[0m\n",
      "\u001b[32m[10/09/2018 18:52:38 INFO 139717838534464] Environment: {'ECS_CONTAINER_METADATA_URI': 'http://169.254.170.2/v3/55fedac7-5c47-4720-b5d7-04e15c958a5c', 'PROTOCOL_BUFFERS_PYTHON_IMPLEMENTATION_VERSION': '2', 'DMLC_PS_ROOT_PORT': '9000', 'DMLC_NUM_WORKER': '2', 'SAGEMAKER_HTTP_PORT': '8080', 'PATH': '/opt/amazon/bin:/usr/local/nvidia/bin:/usr/local/sbin:/usr/local/bin:/usr/sbin:/usr/bin:/sbin:/bin:/opt/amazon/bin:/opt/amazon/bin', 'PYTHONUNBUFFERED': 'TRUE', 'CANONICAL_ENVROOT': '/opt/amazon', 'LD_LIBRARY_PATH': '/usr/local/nvidia/lib64:/opt/amazon/lib', 'MXNET_KVSTORE_BIGARRAY_BOUND': '400000000', 'LANG': 'en_US.utf8', 'DMLC_INTERFACE': 'ethwe', 'SHLVL': '1', 'DMLC_PS_ROOT_URI': '10.40.0.3', 'AWS_REGION': 'us-west-2', 'NVIDIA_VISIBLE_DEVICES': 'all', 'TRAINING_JOB_NAME': 'kmeans-2018-10-09-18-50-02-168', 'HOME': '/root', 'PROTOCOL_BUFFERS_PYTHON_IMPLEMENTATION': 'cpp', 'ENVROOT': '/opt/amazon', 'SAGEMAKER_DATA_PATH': '/opt/ml', 'NVIDIA_DRIVER_CAPABILITIES': 'compute,utility', 'NVIDIA_REQUIRE_CUDA': 'cuda>=9.0', 'OMP_NUM_THREADS': '18', 'HOSTNAME': 'aws', 'AWS_CONTAINER_CREDENTIALS_RELATIVE_URI': '/v2/credentials/292e1efd-f76c-4740-85c0-44f291616bc0', 'DMLC_ROLE': 'worker', 'PWD': '/', 'DMLC_NUM_SERVER': '1'}\u001b[0m\n",
      "\u001b[32m[10/09/2018 18:52:38 INFO 139717838534464] Using default worker.\u001b[0m\n",
      "\u001b[32m[10/09/2018 18:52:38 INFO 139717838534464] Loaded iterator creator application/x-recordio-protobuf for content type ('application/x-recordio-protobuf', '1.0')\u001b[0m\n",
      "\u001b[32m[10/09/2018 18:52:38 INFO 139717838534464] Create Store: dist_async\u001b[0m\n",
      "\u001b[31mDocker entrypoint called with argument(s): train\u001b[0m\n",
      "\u001b[31m[10/09/2018 18:52:39 INFO 139627207124800] Reading default configuration from /opt/amazon/lib/python2.7/site-packages/algorithm/resources/default-input.json: {u'_tuning_objective_metric': u'', u'_num_gpus': u'auto', u'local_lloyd_num_trials': u'auto', u'_log_level': u'info', u'_kvstore': u'auto', u'local_lloyd_init_method': u'kmeans++', u'force_dense': u'true', u'epochs': u'1', u'init_method': u'random', u'local_lloyd_tol': u'0.0001', u'local_lloyd_max_iter': u'300', u'_disable_wait_to_read': u'false', u'extra_center_factor': u'auto', u'eval_metrics': u'[\"msd\"]', u'_num_kv_servers': u'1', u'mini_batch_size': u'5000', u'half_life_time_size': u'0', u'_num_slices': u'1'}\u001b[0m\n",
      "\u001b[31m[10/09/2018 18:52:39 INFO 139627207124800] Reading provided configuration from /opt/ml/input/config/hyperparameters.json: {u'feature_dim': u'784', u'k': u'10', u'force_dense': u'True'}\u001b[0m\n",
      "\u001b[31m[10/09/2018 18:52:39 INFO 139627207124800] Final configuration: {u'k': u'10', u'_tuning_objective_metric': u'', u'_num_gpus': u'auto', u'local_lloyd_num_trials': u'auto', u'_log_level': u'info', u'_kvstore': u'auto', u'local_lloyd_init_method': u'kmeans++', u'force_dense': u'True', u'epochs': u'1', u'init_method': u'random', u'feature_dim': u'784', u'local_lloyd_tol': u'0.0001', u'local_lloyd_max_iter': u'300', u'_disable_wait_to_read': u'false', u'extra_center_factor': u'auto', u'eval_metrics': u'[\"msd\"]', u'_num_kv_servers': u'1', u'mini_batch_size': u'5000', u'half_life_time_size': u'0', u'_num_slices': u'1'}\u001b[0m\n",
      "\u001b[31m[10/09/2018 18:52:39 WARNING 139627207124800] Loggers have already been setup.\u001b[0m\n",
      "\u001b[31m[10/09/2018 18:52:39 INFO 139627207124800] Launching parameter server for role scheduler\u001b[0m\n",
      "\u001b[31m[10/09/2018 18:52:39 INFO 139627207124800] {'ECS_CONTAINER_METADATA_URI': 'http://169.254.170.2/v3/2cd35d92-c9e3-4162-ab79-fb00f3609bca', 'PROTOCOL_BUFFERS_PYTHON_IMPLEMENTATION_VERSION': '2', 'PATH': '/opt/amazon/bin:/usr/local/nvidia/bin:/usr/local/sbin:/usr/local/bin:/usr/sbin:/usr/bin:/sbin:/bin:/opt/amazon/bin:/opt/amazon/bin', 'SAGEMAKER_HTTP_PORT': '8080', 'HOME': '/root', 'PYTHONUNBUFFERED': 'TRUE', 'CANONICAL_ENVROOT': '/opt/amazon', 'LD_LIBRARY_PATH': '/usr/local/nvidia/lib64:/opt/amazon/lib', 'MXNET_KVSTORE_BIGARRAY_BOUND': '400000000', 'LANG': 'en_US.utf8', 'DMLC_INTERFACE': 'ethwe', 'SHLVL': '1', 'AWS_REGION': 'us-west-2', 'NVIDIA_VISIBLE_DEVICES': 'all', 'TRAINING_JOB_NAME': 'kmeans-2018-10-09-18-50-02-168', 'PROTOCOL_BUFFERS_PYTHON_IMPLEMENTATION': 'cpp', 'ENVROOT': '/opt/amazon', 'SAGEMAKER_DATA_PATH': '/opt/ml', 'NVIDIA_DRIVER_CAPABILITIES': 'compute,utility', 'NVIDIA_REQUIRE_CUDA': 'cuda>=9.0', 'OMP_NUM_THREADS': '18', 'HOSTNAME': 'aws', 'AWS_CONTAINER_CREDENTIALS_RELATIVE_URI': '/v2/credentials/d3738e99-16de-46dd-bccb-30dcf65d62c2', 'PWD': '/'}\u001b[0m\n",
      "\u001b[31m[10/09/2018 18:52:39 INFO 139627207124800] envs={'ECS_CONTAINER_METADATA_URI': 'http://169.254.170.2/v3/2cd35d92-c9e3-4162-ab79-fb00f3609bca', 'PROTOCOL_BUFFERS_PYTHON_IMPLEMENTATION_VERSION': '2', 'DMLC_NUM_WORKER': '2', 'DMLC_PS_ROOT_PORT': '9000', 'PATH': '/opt/amazon/bin:/usr/local/nvidia/bin:/usr/local/sbin:/usr/local/bin:/usr/sbin:/usr/bin:/sbin:/bin:/opt/amazon/bin:/opt/amazon/bin', 'SAGEMAKER_HTTP_PORT': '8080', 'HOME': '/root', 'PYTHONUNBUFFERED': 'TRUE', 'CANONICAL_ENVROOT': '/opt/amazon', 'LD_LIBRARY_PATH': '/usr/local/nvidia/lib64:/opt/amazon/lib', 'MXNET_KVSTORE_BIGARRAY_BOUND': '400000000', 'LANG': 'en_US.utf8', 'DMLC_INTERFACE': 'ethwe', 'SHLVL': '1', 'DMLC_PS_ROOT_URI': '10.40.0.3', 'AWS_REGION': 'us-west-2', 'NVIDIA_VISIBLE_DEVICES': 'all', 'TRAINING_JOB_NAME': 'kmeans-2018-10-09-18-50-02-168', 'PROTOCOL_BUFFERS_PYTHON_IMPLEMENTATION': 'cpp', 'ENVROOT': '/opt/amazon', 'SAGEMAKER_DATA_PATH': '/opt/ml', 'NVIDIA_DRIVER_CAPABILITIES': 'compute,utility', 'NVIDIA_REQUIRE_CUDA': 'cuda>=9.0', 'OMP_NUM_THREADS': '18', 'HOSTNAME': 'aws', 'AWS_CONTAINER_CREDENTIALS_RELATIVE_URI': '/v2/credentials/d3738e99-16de-46dd-bccb-30dcf65d62c2', 'DMLC_ROLE': 'scheduler', 'PWD': '/', 'DMLC_NUM_SERVER': '1'}\u001b[0m\n",
      "\u001b[31m[10/09/2018 18:52:39 INFO 139627207124800] Launching parameter server for role server\u001b[0m\n",
      "\u001b[31m[10/09/2018 18:52:39 INFO 139627207124800] {'ECS_CONTAINER_METADATA_URI': 'http://169.254.170.2/v3/2cd35d92-c9e3-4162-ab79-fb00f3609bca', 'PROTOCOL_BUFFERS_PYTHON_IMPLEMENTATION_VERSION': '2', 'PATH': '/opt/amazon/bin:/usr/local/nvidia/bin:/usr/local/sbin:/usr/local/bin:/usr/sbin:/usr/bin:/sbin:/bin:/opt/amazon/bin:/opt/amazon/bin', 'SAGEMAKER_HTTP_PORT': '8080', 'HOME': '/root', 'PYTHONUNBUFFERED': 'TRUE', 'CANONICAL_ENVROOT': '/opt/amazon', 'LD_LIBRARY_PATH': '/usr/local/nvidia/lib64:/opt/amazon/lib', 'MXNET_KVSTORE_BIGARRAY_BOUND': '400000000', 'LANG': 'en_US.utf8', 'DMLC_INTERFACE': 'ethwe', 'SHLVL': '1', 'AWS_REGION': 'us-west-2', 'NVIDIA_VISIBLE_DEVICES': 'all', 'TRAINING_JOB_NAME': 'kmeans-2018-10-09-18-50-02-168', 'PROTOCOL_BUFFERS_PYTHON_IMPLEMENTATION': 'cpp', 'ENVROOT': '/opt/amazon', 'SAGEMAKER_DATA_PATH': '/opt/ml', 'NVIDIA_DRIVER_CAPABILITIES': 'compute,utility', 'NVIDIA_REQUIRE_CUDA': 'cuda>=9.0', 'OMP_NUM_THREADS': '18', 'HOSTNAME': 'aws', 'AWS_CONTAINER_CREDENTIALS_RELATIVE_URI': '/v2/credentials/d3738e99-16de-46dd-bccb-30dcf65d62c2', 'PWD': '/'}\u001b[0m\n",
      "\u001b[31m[10/09/2018 18:52:39 INFO 139627207124800] envs={'ECS_CONTAINER_METADATA_URI': 'http://169.254.170.2/v3/2cd35d92-c9e3-4162-ab79-fb00f3609bca', 'PROTOCOL_BUFFERS_PYTHON_IMPLEMENTATION_VERSION': '2', 'DMLC_NUM_WORKER': '2', 'DMLC_PS_ROOT_PORT': '9000', 'PATH': '/opt/amazon/bin:/usr/local/nvidia/bin:/usr/local/sbin:/usr/local/bin:/usr/sbin:/usr/bin:/sbin:/bin:/opt/amazon/bin:/opt/amazon/bin', 'SAGEMAKER_HTTP_PORT': '8080', 'HOME': '/root', 'PYTHONUNBUFFERED': 'TRUE', 'CANONICAL_ENVROOT': '/opt/amazon', 'LD_LIBRARY_PATH': '/usr/local/nvidia/lib64:/opt/amazon/lib', 'MXNET_KVSTORE_BIGARRAY_BOUND': '400000000', 'LANG': 'en_US.utf8', 'DMLC_INTERFACE': 'ethwe', 'SHLVL': '1', 'DMLC_PS_ROOT_URI': '10.40.0.3', 'AWS_REGION': 'us-west-2', 'NVIDIA_VISIBLE_DEVICES': 'all', 'TRAINING_JOB_NAME': 'kmeans-2018-10-09-18-50-02-168', 'PROTOCOL_BUFFERS_PYTHON_IMPLEMENTATION': 'cpp', 'ENVROOT': '/opt/amazon', 'SAGEMAKER_DATA_PATH': '/opt/ml', 'NVIDIA_DRIVER_CAPABILITIES': 'compute,utility', 'NVIDIA_REQUIRE_CUDA': 'cuda>=9.0', 'OMP_NUM_THREADS': '18', 'HOSTNAME': 'aws', 'AWS_CONTAINER_CREDENTIALS_RELATIVE_URI': '/v2/credentials/d3738e99-16de-46dd-bccb-30dcf65d62c2', 'DMLC_ROLE': 'server', 'PWD': '/', 'DMLC_NUM_SERVER': '1'}\u001b[0m\n",
      "\u001b[31m[10/09/2018 18:52:39 INFO 139627207124800] Environment: {'ECS_CONTAINER_METADATA_URI': 'http://169.254.170.2/v3/2cd35d92-c9e3-4162-ab79-fb00f3609bca', 'PROTOCOL_BUFFERS_PYTHON_IMPLEMENTATION_VERSION': '2', 'DMLC_PS_ROOT_PORT': '9000', 'DMLC_NUM_WORKER': '2', 'SAGEMAKER_HTTP_PORT': '8080', 'PATH': '/opt/amazon/bin:/usr/local/nvidia/bin:/usr/local/sbin:/usr/local/bin:/usr/sbin:/usr/bin:/sbin:/bin:/opt/amazon/bin:/opt/amazon/bin', 'PYTHONUNBUFFERED': 'TRUE', 'CANONICAL_ENVROOT': '/opt/amazon', 'LD_LIBRARY_PATH': '/usr/local/nvidia/lib64:/opt/amazon/lib', 'MXNET_KVSTORE_BIGARRAY_BOUND': '400000000', 'LANG': 'en_US.utf8', 'DMLC_INTERFACE': 'ethwe', 'SHLVL': '1', 'DMLC_PS_ROOT_URI': '10.40.0.3', 'AWS_REGION': 'us-west-2', 'NVIDIA_VISIBLE_DEVICES': 'all', 'TRAINING_JOB_NAME': 'kmeans-2018-10-09-18-50-02-168', 'HOME': '/root', 'PROTOCOL_BUFFERS_PYTHON_IMPLEMENTATION': 'cpp', 'ENVROOT': '/opt/amazon', 'SAGEMAKER_DATA_PATH': '/opt/ml', 'NVIDIA_DRIVER_CAPABILITIES': 'compute,utility', 'NVIDIA_REQUIRE_CUDA': 'cuda>=9.0', 'OMP_NUM_THREADS': '18', 'HOSTNAME': 'aws', 'AWS_CONTAINER_CREDENTIALS_RELATIVE_URI': '/v2/credentials/d3738e99-16de-46dd-bccb-30dcf65d62c2', 'DMLC_ROLE': 'worker', 'PWD': '/', 'DMLC_NUM_SERVER': '1'}\u001b[0m\n",
      "\u001b[31m[10/09/2018 18:52:39 INFO 139627207124800] Using default worker.\u001b[0m\n",
      "\u001b[31m[10/09/2018 18:52:39 INFO 139627207124800] Loaded iterator creator application/x-recordio-protobuf for content type ('application/x-recordio-protobuf', '1.0')\u001b[0m\n",
      "\u001b[31m[10/09/2018 18:52:39 INFO 139627207124800] Create Store: dist_async\u001b[0m\n",
      "\u001b[32m[10/09/2018 18:52:40 INFO 139717838534464] nvidia-smi took: 0.0252110958099 secs to identify 0 gpus\u001b[0m\n",
      "\u001b[32m[10/09/2018 18:52:40 INFO 139717838534464] Number of GPUs being used: 0\u001b[0m\n",
      "\u001b[32m[10/09/2018 18:52:40 INFO 139717838534464] Setting up with params: {u'k': u'10', u'_tuning_objective_metric': u'', u'_num_gpus': u'auto', u'local_lloyd_num_trials': u'auto', u'_log_level': u'info', u'_kvstore': u'auto', u'local_lloyd_init_method': u'kmeans++', u'force_dense': u'True', u'epochs': u'1', u'init_method': u'random', u'feature_dim': u'784', u'local_lloyd_tol': u'0.0001', u'local_lloyd_max_iter': u'300', u'_disable_wait_to_read': u'false', u'extra_center_factor': u'auto', u'eval_metrics': u'[\"msd\"]', u'_num_kv_servers': u'1', u'mini_batch_size': u'5000', u'half_life_time_size': u'0', u'_num_slices': u'1'}\u001b[0m\n",
      "\u001b[32m/opt/amazon/lib/python2.7/site-packages/ai_algorithms_sdk/config/config_helper.py:172: DeprecationWarning: deprecated\n",
      "  warnings.warn(\"deprecated\", DeprecationWarning)\u001b[0m\n",
      "\u001b[32m/opt/amazon/lib/python2.7/site-packages/ai_algorithms_sdk/config/config_helper.py:122: DeprecationWarning: deprecated\n",
      "  warnings.warn(\"deprecated\", DeprecationWarning)\u001b[0m\n",
      "\u001b[32m[10/09/2018 18:52:40 INFO 139717838534464] Number of GPUs being used: 0\u001b[0m\n",
      "\u001b[32m[10/09/2018 18:52:40 INFO 139717838534464] number of center slices 1\u001b[0m\n",
      "\u001b[32m#metrics {\"Metrics\": {\"Max Batches Seen Between Resets\": {\"count\": 1, \"max\": 1, \"sum\": 1.0, \"min\": 1}, \"Number of Batches Since Last Reset\": {\"count\": 1, \"max\": 1, \"sum\": 1.0, \"min\": 1}, \"Number of Records Since Last Reset\": {\"count\": 1, \"max\": 5000, \"sum\": 5000.0, \"min\": 5000}, \"Total Batches Seen\": {\"count\": 1, \"max\": 1, \"sum\": 1.0, \"min\": 1}, \"Total Records Seen\": {\"count\": 1, \"max\": 5000, \"sum\": 5000.0, \"min\": 5000}, \"Max Records Seen Between Resets\": {\"count\": 1, \"max\": 5000, \"sum\": 5000.0, \"min\": 5000}, \"Reset Count\": {\"count\": 1, \"max\": 0, \"sum\": 0.0, \"min\": 0}}, \"EndTime\": 1539111160.689795, \"Dimensions\": {\"Host\": \"algo-2\", \"Meta\": \"init_train_data_iter\", \"Operation\": \"training\", \"Algorithm\": \"AWS/KMeansWebscale\"}, \"StartTime\": 1539111160.689755}\n",
      "\u001b[0m\n",
      "\u001b[31m[10/09/2018 18:52:40 INFO 139627207124800] nvidia-smi took: 0.025230884552 secs to identify 0 gpus\u001b[0m\n",
      "\u001b[31m[10/09/2018 18:52:40 INFO 139627207124800] Number of GPUs being used: 0\u001b[0m\n",
      "\u001b[31m[10/09/2018 18:52:40 INFO 139627207124800] Setting up with params: {u'k': u'10', u'_tuning_objective_metric': u'', u'_num_gpus': u'auto', u'local_lloyd_num_trials': u'auto', u'_log_level': u'info', u'_kvstore': u'auto', u'local_lloyd_init_method': u'kmeans++', u'force_dense': u'True', u'epochs': u'1', u'init_method': u'random', u'feature_dim': u'784', u'local_lloyd_tol': u'0.0001', u'local_lloyd_max_iter': u'300', u'_disable_wait_to_read': u'false', u'extra_center_factor': u'auto', u'eval_metrics': u'[\"msd\"]', u'_num_kv_servers': u'1', u'mini_batch_size': u'5000', u'half_life_time_size': u'0', u'_num_slices': u'1'}\u001b[0m\n",
      "\u001b[31m/opt/amazon/lib/python2.7/site-packages/ai_algorithms_sdk/config/config_helper.py:172: DeprecationWarning: deprecated\n",
      "  warnings.warn(\"deprecated\", DeprecationWarning)\u001b[0m\n",
      "\u001b[31m/opt/amazon/lib/python2.7/site-packages/ai_algorithms_sdk/config/config_helper.py:122: DeprecationWarning: deprecated\n",
      "  warnings.warn(\"deprecated\", DeprecationWarning)\u001b[0m\n",
      "\u001b[31m[10/09/2018 18:52:40 INFO 139627207124800] Number of GPUs being used: 0\u001b[0m\n",
      "\u001b[31m[10/09/2018 18:52:40 INFO 139627207124800] number of center slices 1\u001b[0m\n",
      "\u001b[31m#metrics {\"Metrics\": {\"Max Batches Seen Between Resets\": {\"count\": 1, \"max\": 1, \"sum\": 1.0, \"min\": 1}, \"Number of Batches Since Last Reset\": {\"count\": 1, \"max\": 1, \"sum\": 1.0, \"min\": 1}, \"Number of Records Since Last Reset\": {\"count\": 1, \"max\": 5000, \"sum\": 5000.0, \"min\": 5000}, \"Total Batches Seen\": {\"count\": 1, \"max\": 1, \"sum\": 1.0, \"min\": 1}, \"Total Records Seen\": {\"count\": 1, \"max\": 5000, \"sum\": 5000.0, \"min\": 5000}, \"Max Records Seen Between Resets\": {\"count\": 1, \"max\": 5000, \"sum\": 5000.0, \"min\": 5000}, \"Reset Count\": {\"count\": 1, \"max\": 0, \"sum\": 0.0, \"min\": 0}}, \"EndTime\": 1539111160.687836, \"Dimensions\": {\"Host\": \"algo-1\", \"Meta\": \"init_train_data_iter\", \"Operation\": \"training\", \"Algorithm\": \"AWS/KMeansWebscale\"}, \"StartTime\": 1539111160.687801}\n",
      "\u001b[0m\n",
      "\u001b[31m[10/09/2018 18:52:41 INFO 139627207124800] processed a total of 25000 examples\u001b[0m\n",
      "\u001b[31m[10/09/2018 18:52:41 INFO 139627207124800] #progress_metric: host=algo-1, completed 100 % of epochs\u001b[0m\n",
      "\u001b[31m#metrics {\"Metrics\": {\"Max Batches Seen Between Resets\": {\"count\": 1, \"max\": 5, \"sum\": 5.0, \"min\": 5}, \"Number of Batches Since Last Reset\": {\"count\": 1, \"max\": 5, \"sum\": 5.0, \"min\": 5}, \"Number of Records Since Last Reset\": {\"count\": 1, \"max\": 25000, \"sum\": 25000.0, \"min\": 25000}, \"Total Batches Seen\": {\"count\": 1, \"max\": 6, \"sum\": 6.0, \"min\": 6}, \"Total Records Seen\": {\"count\": 1, \"max\": 30000, \"sum\": 30000.0, \"min\": 30000}, \"Max Records Seen Between Resets\": {\"count\": 1, \"max\": 25000, \"sum\": 25000.0, \"min\": 25000}, \"Reset Count\": {\"count\": 1, \"max\": 1, \"sum\": 1.0, \"min\": 1}}, \"EndTime\": 1539111161.045104, \"Dimensions\": {\"Host\": \"algo-1\", \"Meta\": \"training_data_iter\", \"Operation\": \"training\", \"Algorithm\": \"AWS/KMeansWebscale\", \"epoch\": 0}, \"StartTime\": 1539111160.688096}\n",
      "\u001b[0m\n",
      "\u001b[31m[10/09/2018 18:52:41 INFO 139627207124800] #throughput_metric: host=algo-1, train throughput=70003.4915758 records/second\u001b[0m\n",
      "\u001b[31m[10/09/2018 18:52:41 INFO 139627207124800] shrinking 100 centers into 10\u001b[0m\n",
      "\u001b[31m[10/09/2018 18:52:41 INFO 139627207124800] local kmeans attempt #0. Current mean square distance 11.021328\u001b[0m\n",
      "\u001b[31m[10/09/2018 18:52:41 INFO 139627207124800] local kmeans attempt #1. Current mean square distance 10.491074\u001b[0m\n",
      "\u001b[31m[10/09/2018 18:52:41 INFO 139627207124800] local kmeans attempt #2. Current mean square distance 10.765448\u001b[0m\n",
      "\u001b[31m[10/09/2018 18:52:41 INFO 139627207124800] local kmeans attempt #3. Current mean square distance 10.974136\u001b[0m\n",
      "\u001b[32m[10/09/2018 18:52:41 INFO 139717838534464] processed a total of 25000 examples\u001b[0m\n",
      "\u001b[32m[10/09/2018 18:52:41 INFO 139717838534464] #progress_metric: host=algo-2, completed 100 % of epochs\u001b[0m\n",
      "\u001b[32m#metrics {\"Metrics\": {\"Max Batches Seen Between Resets\": {\"count\": 1, \"max\": 5, \"sum\": 5.0, \"min\": 5}, \"Number of Batches Since Last Reset\": {\"count\": 1, \"max\": 5, \"sum\": 5.0, \"min\": 5}, \"Number of Records Since Last Reset\": {\"count\": 1, \"max\": 25000, \"sum\": 25000.0, \"min\": 25000}, \"Total Batches Seen\": {\"count\": 1, \"max\": 6, \"sum\": 6.0, \"min\": 6}, \"Total Records Seen\": {\"count\": 1, \"max\": 30000, \"sum\": 30000.0, \"min\": 30000}, \"Max Records Seen Between Resets\": {\"count\": 1, \"max\": 25000, \"sum\": 25000.0, \"min\": 25000}, \"Reset Count\": {\"count\": 1, \"max\": 1, \"sum\": 1.0, \"min\": 1}}, \"EndTime\": 1539111161.039729, \"Dimensions\": {\"Host\": \"algo-2\", \"Meta\": \"training_data_iter\", \"Operation\": \"training\", \"Algorithm\": \"AWS/KMeansWebscale\", \"epoch\": 0}, \"StartTime\": 1539111160.690004}\n",
      "\u001b[0m\n",
      "\u001b[32m[10/09/2018 18:52:41 INFO 139717838534464] #throughput_metric: host=algo-2, train throughput=71460.8162776 records/second\u001b[0m\n",
      "\u001b[32m[10/09/2018 18:52:41 INFO 139717838534464] shrinking 100 centers into 10\u001b[0m\n",
      "\u001b[32m[10/09/2018 18:52:41 INFO 139717838534464] local kmeans attempt #0. Current mean square distance 10.650485\u001b[0m\n",
      "\u001b[32m[10/09/2018 18:52:41 INFO 139717838534464] local kmeans attempt #1. Current mean square distance 10.503918\u001b[0m\n",
      "\u001b[32m[10/09/2018 18:52:41 INFO 139717838534464] local kmeans attempt #2. Current mean square distance 10.231285\u001b[0m\n",
      "\u001b[32m[10/09/2018 18:52:41 INFO 139717838534464] local kmeans attempt #3. Current mean square distance 10.898682\u001b[0m\n",
      "\u001b[32m[10/09/2018 18:52:41 INFO 139717838534464] local kmeans attempt #4. Current mean square distance 10.466355\u001b[0m\n",
      "\u001b[32m[10/09/2018 18:52:41 INFO 139717838534464] local kmeans attempt #5. Current mean square distance 10.913209\u001b[0m\n",
      "\u001b[32m[10/09/2018 18:52:41 INFO 139717838534464] local kmeans attempt #6. Current mean square distance 10.499131\u001b[0m\n",
      "\u001b[32m[10/09/2018 18:52:41 INFO 139717838534464] local kmeans attempt #7. Current mean square distance 10.681104\u001b[0m\n",
      "\u001b[32m[10/09/2018 18:52:41 INFO 139717838534464] local kmeans attempt #8. Current mean square distance 10.871950\u001b[0m\n",
      "\u001b[32m[10/09/2018 18:52:41 INFO 139717838534464] local kmeans attempt #9. Current mean square distance 10.757560\u001b[0m\n",
      "\u001b[32m[10/09/2018 18:52:41 INFO 139717838534464] finished shrinking process. Mean Square Distance = 10\u001b[0m\n",
      "\u001b[32m[10/09/2018 18:52:41 INFO 139717838534464] #quality_metric: host=algo-2, train msd <loss>=10.2312850952\u001b[0m\n",
      "\u001b[32m[10/09/2018 18:52:41 INFO 139717838534464] batch data loading with context took: 37.8528%, (0.132692 secs)\u001b[0m\n",
      "\u001b[32m[10/09/2018 18:52:41 INFO 139717838534464] compute all data-center distances: inner product took: 32.4850%, (0.113876 secs)\u001b[0m\n",
      "\u001b[32m[10/09/2018 18:52:41 INFO 139717838534464] compute all data-center distances: point norm took: 10.4233%, (0.036539 secs)\u001b[0m\n",
      "\u001b[32m[10/09/2018 18:52:41 INFO 139717838534464] predict compute msd took: 6.3555%, (0.022279 secs)\u001b[0m\n",
      "\u001b[32m[10/09/2018 18:52:41 INFO 139717838534464] collect from kv store took: 4.5842%, (0.016070 secs)\u001b[0m\n",
      "\u001b[32m[10/09/2018 18:52:41 INFO 139717838534464] gradient: cluster center took: 4.3332%, (0.015190 secs)\u001b[0m\n",
      "\u001b[32m[10/09/2018 18:52:41 INFO 139717838534464] splitting centers key-value pair took: 1.0831%, (0.003797 secs)\u001b[0m\n",
      "\u001b[32m[10/09/2018 18:52:41 INFO 139717838534464] gradient: one_hot took: 1.0416%, (0.003651 secs)\u001b[0m\n",
      "\u001b[32m[10/09/2018 18:52:41 INFO 139717838534464] gradient: cluster size  took: 0.9739%, (0.003414 secs)\u001b[0m\n",
      "\u001b[32m[10/09/2018 18:52:41 INFO 139717838534464] update state and report convergance took: 0.3939%, (0.001381 secs)\u001b[0m\n",
      "\u001b[32m[10/09/2018 18:52:41 INFO 139717838534464] compute all data-center distances: center norm took: 0.3892%, (0.001364 secs)\u001b[0m\n",
      "\u001b[32m[10/09/2018 18:52:41 INFO 139717838534464] update set-up time took: 0.0539%, (0.000189 secs)\u001b[0m\n",
      "\u001b[32m[10/09/2018 18:52:41 INFO 139717838534464] predict minus dist took: 0.0303%, (0.000106 secs)\u001b[0m\n",
      "\u001b[32m[10/09/2018 18:52:41 INFO 139717838534464] TOTAL took: 0.350548267365\u001b[0m\n",
      "\u001b[32m[10/09/2018 18:52:41 INFO 139717838534464] Number of GPUs being used: 0\u001b[0m\n",
      "\u001b[32m[10/09/2018 18:52:41 INFO 139717838534464] No model is serialized on a non-master node\u001b[0m\n",
      "\u001b[32m#metrics {\"Metrics\": {\"finalize.time\": {\"count\": 1, \"max\": 230.74102401733398, \"sum\": 230.74102401733398, \"min\": 230.74102401733398}, \"initialize.time\": {\"count\": 1, \"max\": 17.33088493347168, \"sum\": 17.33088493347168, \"min\": 17.33088493347168}, \"model.serialize.time\": {\"count\": 1, \"max\": 0.07390975952148438, \"sum\": 0.07390975952148438, \"min\": 0.07390975952148438}, \"update.time\": {\"count\": 1, \"max\": 349.52712059020996, \"sum\": 349.52712059020996, \"min\": 349.52712059020996}, \"epochs\": {\"count\": 1, \"max\": 1, \"sum\": 1.0, \"min\": 1}, \"state.serialize.time\": {\"count\": 1, \"max\": 0.579833984375, \"sum\": 0.579833984375, \"min\": 0.579833984375}, \"_shrink.time\": {\"count\": 1, \"max\": 227.23698616027832, \"sum\": 227.23698616027832, \"min\": 227.23698616027832}}, \"EndTime\": 1539111161.278804, \"Dimensions\": {\"Host\": \"algo-2\", \"Operation\": \"training\", \"Algorithm\": \"AWS/KMeansWebscale\"}, \"StartTime\": 1539111160.631329}\n",
      "\u001b[0m\n",
      "\u001b[32m[10/09/2018 18:52:41 INFO 139717838534464] Test data is not provided.\u001b[0m\n",
      "\u001b[32m#metrics {\"Metrics\": {\"totaltime\": {\"count\": 1, \"max\": 2757.8890323638916, \"sum\": 2757.8890323638916, \"min\": 2757.8890323638916}, \"setuptime\": {\"count\": 1, \"max\": 33.45990180969238, \"sum\": 33.45990180969238, \"min\": 33.45990180969238}}, \"EndTime\": 1539111161.281517, \"Dimensions\": {\"Host\": \"algo-2\", \"Operation\": \"training\", \"Algorithm\": \"AWS/KMeansWebscale\"}, \"StartTime\": 1539111161.278889}\n",
      "\u001b[0m\n",
      "\u001b[31m[10/09/2018 18:52:41 INFO 139627207124800] local kmeans attempt #4. Current mean square distance 10.940984\u001b[0m\n",
      "\u001b[31m[10/09/2018 18:52:41 INFO 139627207124800] local kmeans attempt #5. Current mean square distance 10.617517\u001b[0m\n",
      "\u001b[31m[10/09/2018 18:52:41 INFO 139627207124800] local kmeans attempt #6. Current mean square distance 10.500360\u001b[0m\n",
      "\u001b[31m[10/09/2018 18:52:41 INFO 139627207124800] local kmeans attempt #7. Current mean square distance 10.296984\u001b[0m\n",
      "\u001b[31m[10/09/2018 18:52:41 INFO 139627207124800] local kmeans attempt #8. Current mean square distance 10.658587\u001b[0m\n",
      "\u001b[31m[10/09/2018 18:52:41 INFO 139627207124800] local kmeans attempt #9. Current mean square distance 10.414882\u001b[0m\n",
      "\u001b[31m[10/09/2018 18:52:41 INFO 139627207124800] finished shrinking process. Mean Square Distance = 10\u001b[0m\n",
      "\u001b[31m[10/09/2018 18:52:41 INFO 139627207124800] #quality_metric: host=algo-1, train msd <loss>=10.2969837189\u001b[0m\n",
      "\u001b[31m[10/09/2018 18:52:41 INFO 139627207124800] batch data loading with context took: 52.9735%, (0.189777 secs)\u001b[0m\n",
      "\u001b[31m[10/09/2018 18:52:41 INFO 139627207124800] compute all data-center distances: inner product took: 13.8739%, (0.049703 secs)\u001b[0m\n",
      "\u001b[31m[10/09/2018 18:52:41 INFO 139627207124800] compute all data-center distances: point norm took: 10.8949%, (0.039031 secs)\u001b[0m\n",
      "\u001b[31m[10/09/2018 18:52:41 INFO 139627207124800] predict compute msd took: 10.6104%, (0.038012 secs)\u001b[0m\n",
      "\u001b[31m[10/09/2018 18:52:41 INFO 139627207124800] gradient: cluster center took: 4.9998%, (0.017912 secs)\u001b[0m\n",
      "\u001b[31m[10/09/2018 18:52:41 INFO 139627207124800] collect from kv store took: 2.3308%, (0.008350 secs)\u001b[0m\n",
      "\u001b[31m[10/09/2018 18:52:41 INFO 139627207124800] splitting centers key-value pair took: 1.2496%, (0.004477 secs)\u001b[0m\n",
      "\u001b[31m[10/09/2018 18:52:41 INFO 139627207124800] gradient: one_hot took: 1.1210%, (0.004016 secs)\u001b[0m\n",
      "\u001b[31m[10/09/2018 18:52:41 INFO 139627207124800] gradient: cluster size  took: 1.0687%, (0.003829 secs)\u001b[0m\n",
      "\u001b[31m[10/09/2018 18:52:41 INFO 139627207124800] update state and report convergance took: 0.4179%, (0.001497 secs)\u001b[0m\n",
      "\u001b[31m[10/09/2018 18:52:41 INFO 139627207124800] compute all data-center distances: center norm took: 0.3749%, (0.001343 secs)\u001b[0m\n",
      "\u001b[31m[10/09/2018 18:52:41 INFO 139627207124800] update set-up time took: 0.0514%, (0.000184 secs)\u001b[0m\n",
      "\u001b[31m[10/09/2018 18:52:41 INFO 139627207124800] predict minus dist took: 0.0331%, (0.000118 secs)\u001b[0m\n",
      "\u001b[31m[10/09/2018 18:52:41 INFO 139627207124800] TOTAL took: 0.358248949051\u001b[0m\n",
      "\u001b[31m[10/09/2018 18:52:41 INFO 139627207124800] Number of GPUs being used: 0\u001b[0m\n",
      "\u001b[31m#metrics {\"Metrics\": {\"finalize.time\": {\"count\": 1, \"max\": 372.0359802246094, \"sum\": 372.0359802246094, \"min\": 372.0359802246094}, \"initialize.time\": {\"count\": 1, \"max\": 15.367984771728516, \"sum\": 15.367984771728516, \"min\": 15.367984771728516}, \"model.serialize.time\": {\"count\": 1, \"max\": 0.20194053649902344, \"sum\": 0.20194053649902344, \"min\": 0.20194053649902344}, \"update.time\": {\"count\": 1, \"max\": 356.8098545074463, \"sum\": 356.8098545074463, \"min\": 356.8098545074463}, \"epochs\": {\"count\": 1, \"max\": 1, \"sum\": 1.0, \"min\": 1}, \"state.serialize.time\": {\"count\": 1, \"max\": 0.48995018005371094, \"sum\": 0.48995018005371094, \"min\": 0.48995018005371094}, \"_shrink.time\": {\"count\": 1, \"max\": 369.68493461608887, \"sum\": 369.68493461608887, \"min\": 369.68493461608887}}, \"EndTime\": 1539111161.418459, \"Dimensions\": {\"Host\": \"algo-1\", \"Operation\": \"training\", \"Algorithm\": \"AWS/KMeansWebscale\"}, \"StartTime\": 1539111160.630597}\n",
      "\u001b[0m\n",
      "\u001b[31m[10/09/2018 18:52:41 INFO 139627207124800] Test data is not provided.\u001b[0m\n",
      "\u001b[31m#metrics {\"Metrics\": {\"totaltime\": {\"count\": 1, \"max\": 1941.85209274292, \"sum\": 1941.85209274292, \"min\": 1941.85209274292}, \"setuptime\": {\"count\": 1, \"max\": 24.90091323852539, \"sum\": 24.90091323852539, \"min\": 24.90091323852539}}, \"EndTime\": 1539111161.42117, \"Dimensions\": {\"Host\": \"algo-1\", \"Operation\": \"training\", \"Algorithm\": \"AWS/KMeansWebscale\"}, \"StartTime\": 1539111161.418541}\n",
      "\u001b[0m\n"
     ]
    },
    {
     "name": "stdout",
     "output_type": "stream",
     "text": [
      "\n",
      "2018-10-09 18:52:43 Uploading - Uploading generated training model\n",
      "2018-10-09 18:52:49 Completed - Training job completed\n",
      "Billable seconds: 62\n",
      "CPU times: user 7.61 s, sys: 388 ms, total: 8 s\n",
      "Wall time: 3min 21s\n"
     ]
    }
   ],
   "source": [
    "%%time\n",
    "\n",
    "kmeans.fit(kmeans.record_set(train_set[0]))"
   ]
  },
  {
   "cell_type": "code",
   "execution_count": 7,
   "metadata": {},
   "outputs": [
    {
     "data": {
      "text/plain": [
       "'s3://batch-transform/KMexample/model/kmeans-2018-10-09-18-50-02-168/output/model.tar.gz'"
      ]
     },
     "execution_count": 7,
     "metadata": {},
     "output_type": "execute_result"
    }
   ],
   "source": [
    "kmeans.latest_training_job.job_name\n",
    "modelURL = '{}/{}/output/model.tar.gz'.format(model_URL, kmeans.latest_training_job.job_name)\n",
    "modelURL"
   ]
  },
  {
   "cell_type": "code",
   "execution_count": 8,
   "metadata": {},
   "outputs": [],
   "source": [
    "sagemaker = boto3.client('sagemaker')\n",
    "from sagemaker.amazon.amazon_estimator import get_image_uri\n",
    "image = get_image_uri(boto3.Session().region_name, 'kmeans')\n",
    "\n",
    "kmeans_hosting_container = {\n",
    "    'Image': image,\n",
    "    'ModelDataUrl': modelURL\n",
    "}"
   ]
  },
  {
   "cell_type": "code",
   "execution_count": 9,
   "metadata": {},
   "outputs": [
    {
     "data": {
      "text/plain": [
       "{'Image': '174872318107.dkr.ecr.us-west-2.amazonaws.com/kmeans:1',\n",
       " 'ModelDataUrl': 's3://batch-transform/KMexample/model/kmeans-2018-10-09-18-50-02-168/output/model.tar.gz'}"
      ]
     },
     "execution_count": 9,
     "metadata": {},
     "output_type": "execute_result"
    }
   ],
   "source": [
    "kmeans_hosting_container"
   ]
  },
  {
   "cell_type": "markdown",
   "metadata": {},
   "source": [
    "For Lambda we need to know the name of the model. Here we use kmeans.latest_training_job.job_name, but we won't have that in lambda. It will need to be passed as an event. "
   ]
  },
  {
   "cell_type": "code",
   "execution_count": 10,
   "metadata": {},
   "outputs": [],
   "source": [
    "create_model_response = sagemaker.create_model(\n",
    "    ModelName=kmeans.latest_training_job.job_name,\n",
    "    ExecutionRoleArn=role,\n",
    "    PrimaryContainer=kmeans_hosting_container)"
   ]
  },
  {
   "cell_type": "markdown",
   "metadata": {},
   "source": [
    "# Lambda part\n",
    "The model is trained and in place. Now we need to call batch transform to call inference. 1st we'll extract a sample image."
   ]
  },
  {
   "cell_type": "code",
   "execution_count": 12,
   "metadata": {},
   "outputs": [],
   "source": [
    "import sagemaker\n",
    "\n",
    "model_name = kmeans.latest_training_job.job_name\n",
    "\n",
    "bucket = 'batch-transform' \n",
    "validation_file = 'validation_data.csv'\n",
    "validation_key = 'KMexample/data/' + validation_file\n",
    "\n",
    "prediction_folder = 'KMexample/prediction/'\n",
    "prediction_key = prediction_folder + validation_file + \".out\"\n",
    "\n",
    "### Convert the validation set numpy array to a csv file and upload to s3\n",
    "numpy.savetxt(validation_file, valid_set[0], delimiter=',', fmt='%g')\n",
    "\n",
    "s3_client = boto3.client('s3')\n",
    "s3_client.upload_file(validation_file, bucket, validation_key)"
   ]
  },
  {
   "cell_type": "code",
   "execution_count": 13,
   "metadata": {},
   "outputs": [
    {
     "name": "stdout",
     "output_type": "stream",
     "text": [
      "s3://batch-transform/KMexample/data/validation_data.csv\n",
      "s3://batch-transform/KMexample/prediction/\n"
     ]
    }
   ],
   "source": [
    "input_URL = 's3://{}/{}'.format(bucket, validation_key)\n",
    "output_URL = 's3://{}/{}'.format(bucket, prediction_folder)\n",
    "print(input_URL)\n",
    "print(output_URL)"
   ]
  },
  {
   "cell_type": "code",
   "execution_count": 14,
   "metadata": {},
   "outputs": [
    {
     "name": "stdout",
     "output_type": "stream",
     "text": [
      "CPU times: user 24 ms, sys: 0 ns, total: 24 ms\n",
      "Wall time: 27 ms\n"
     ]
    }
   ],
   "source": [
    "# Initialize the transformer object\n",
    "transformer =sagemaker.transformer.Transformer(\n",
    "    base_transform_job_name='Batch-Transform',\n",
    "    model_name=model_name,\n",
    "    instance_count=1,\n",
    "    instance_type='ml.c4.xlarge',\n",
    "    output_path=output_URL\n",
    "    )"
   ]
  },
  {
   "cell_type": "code",
   "execution_count": 15,
   "metadata": {},
   "outputs": [
    {
     "name": "stderr",
     "output_type": "stream",
     "text": [
      "INFO:sagemaker:Creating transform job with name: Batch-Transform-2018-10-09-18-57-14-787\n"
     ]
    },
    {
     "name": "stdout",
     "output_type": "stream",
     "text": [
      "......................................!\n",
      "CPU times: user 152 ms, sys: 8 ms, total: 160 ms\n",
      "Wall time: 3min 12s\n"
     ]
    }
   ],
   "source": [
    "%%time\n",
    "# To start a transform job:\n",
    "transformer.transform(input_URL, content_type='text/csv', split_type='Line')\n",
    "\n",
    "# Then wait until transform job is completed\n",
    "transformer.wait()"
   ]
  },
  {
   "cell_type": "code",
   "execution_count": 16,
   "metadata": {},
   "outputs": [
    {
     "name": "stdout",
     "output_type": "stream",
     "text": [
      "Sample transform result: {\"closest_cluster\":3.0,\"distance_to_cluster\":6.344285011291504}\n",
      "\n"
     ]
    }
   ],
   "source": [
    "# To fetch validation result \n",
    "s3_client.download_file(bucket, prediction_key, 'valid-result')\n",
    "with open('valid-result') as f:\n",
    "    results = f.readlines()   \n",
    "print(\"Sample transform result: {}\".format(results[0]))"
   ]
  },
  {
   "cell_type": "code",
   "execution_count": null,
   "metadata": {},
   "outputs": [],
   "source": []
  }
 ],
 "metadata": {
  "kernelspec": {
   "display_name": "Python 3",
   "language": "python",
   "name": "python3"
  },
  "language_info": {
   "codemirror_mode": {
    "name": "ipython",
    "version": 3
   },
   "file_extension": ".py",
   "mimetype": "text/x-python",
   "name": "python",
   "nbconvert_exporter": "python",
   "pygments_lexer": "ipython3",
   "version": "3.6.5"
  }
 },
 "nbformat": 4,
 "nbformat_minor": 2
}
